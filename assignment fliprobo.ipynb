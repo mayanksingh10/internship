{
 "cells": [
  {
   "cell_type": "markdown",
   "id": "f887c2c9",
   "metadata": {},
   "source": [
    "# SET 1 PART 2"
   ]
  },
  {
   "cell_type": "markdown",
   "id": "dc23507c",
   "metadata": {},
   "source": [
    "# question 11"
   ]
  },
  {
   "cell_type": "code",
   "execution_count": 1,
   "id": "06205174",
   "metadata": {},
   "outputs": [
    {
     "name": "stdout",
     "output_type": "stream",
     "text": [
      "enter any number8\n",
      "the factorial of 8 is = 40320\n"
     ]
    }
   ],
   "source": [
    "num=int(input(\"enter any number\"))\n",
    "\n",
    "factorial=1\n",
    "\n",
    "if  num <0:\n",
    "    print(\"negative number, factorial doesnt exist\")\n",
    "elif num==0:\n",
    "    print(\"the factorial of 0 is 1 \")\n",
    "else:\n",
    "    for i in range(1,num+1):\n",
    "        factorial=factorial * i\n",
    "    print(\"the factorial of\",num,\"is\",\"=\",factorial)"
   ]
  },
  {
   "cell_type": "markdown",
   "id": "08634cc1",
   "metadata": {},
   "source": [
    "# question 12"
   ]
  },
  {
   "cell_type": "code",
   "execution_count": 2,
   "id": "1b526b0f",
   "metadata": {},
   "outputs": [
    {
     "name": "stdout",
     "output_type": "stream",
     "text": [
      "enter any number22\n",
      "22 is a composite number\n",
      "22 is a composite number\n",
      "22 is a prime number\n"
     ]
    }
   ],
   "source": [
    "num1= int(input(\"enter any number\"))\n",
    "\n",
    "if num1>1:\n",
    "    for i in range(2, num1):\n",
    "        if (num1 % i )==0:\n",
    "            print(num1,\"is a composite number\")\n",
    "    else:\n",
    "        print(num1,\"is a prime number\")\n",
    "else: \n",
    "    print(\"num1 is neither prime nor composite\")"
   ]
  },
  {
   "cell_type": "markdown",
   "id": "3d1b4e54",
   "metadata": {},
   "source": [
    "# question13"
   ]
  },
  {
   "cell_type": "code",
   "execution_count": 3,
   "id": "b9e35da7",
   "metadata": {},
   "outputs": [],
   "source": [
    "def is_palindrome(string):\n",
    "    string = string.replace(\" \", \"\").lower()\n",
    "    reversed_string = string[::-1]\n",
    "    if string == reversed_string:\n",
    "        return True\n",
    "    else:\n",
    "        return False\n"
   ]
  },
  {
   "cell_type": "code",
   "execution_count": 4,
   "id": "47a4a201",
   "metadata": {},
   "outputs": [
    {
     "name": "stdout",
     "output_type": "stream",
     "text": [
      "True\n",
      "False\n"
     ]
    }
   ],
   "source": [
    "print(is_palindrome(\"Arora\"))\n",
    "print(is_palindrome(\"Kavisha\"))"
   ]
  },
  {
   "cell_type": "markdown",
   "id": "a6dbe12f",
   "metadata": {},
   "source": [
    "# QUESTION 14"
   ]
  },
  {
   "cell_type": "code",
   "execution_count": 5,
   "id": "bb85efdf",
   "metadata": {},
   "outputs": [],
   "source": [
    "import math"
   ]
  },
  {
   "cell_type": "code",
   "execution_count": 6,
   "id": "04fe27e1",
   "metadata": {},
   "outputs": [
    {
     "name": "stdout",
     "output_type": "stream",
     "text": [
      "the third side of right angled triangle is: 7.211102550927978\n"
     ]
    }
   ],
   "source": [
    "def third_side(p,b):\n",
    "    h=math.sqrt(p**2+b**2)\n",
    "    return h\n",
    "p=6\n",
    "b=4\n",
    "h=third_side(p,b)\n",
    "print(\"the third side of right angled triangle is:\",h)"
   ]
  },
  {
   "cell_type": "markdown",
   "id": "09caab5e",
   "metadata": {},
   "source": [
    "# question 15"
   ]
  },
  {
   "cell_type": "code",
   "execution_count": 7,
   "id": "a4ceb0ec",
   "metadata": {},
   "outputs": [
    {
     "name": "stdout",
     "output_type": "stream",
     "text": [
      "enter a string alphabet\n",
      "'a' of string occurs 2 times\n",
      "'l' of string occurs 1 times\n",
      "'p' of string occurs 1 times\n",
      "'h' of string occurs 1 times\n",
      "'b' of string occurs 1 times\n",
      "'e' of string occurs 1 times\n",
      "'t' of string occurs 1 times\n"
     ]
    }
   ],
   "source": [
    "string = input(\"enter a string \")\n",
    "frequency = {}\n",
    "for i in string:\n",
    "    if i in frequency:\n",
    "        frequency[i] +=1\n",
    "    else:\n",
    "        frequency[i]=1\n",
    "for i in frequency:\n",
    "    print(f\"'{i}' of string occurs {frequency[i]} times\")"
   ]
  },
  {
   "cell_type": "code",
   "execution_count": null,
   "id": "86114b7b",
   "metadata": {},
   "outputs": [],
   "source": []
  },
  {
   "cell_type": "code",
   "execution_count": null,
   "id": "42b7e610",
   "metadata": {},
   "outputs": [],
   "source": []
  },
  {
   "cell_type": "markdown",
   "id": "57f73da3",
   "metadata": {},
   "source": [
    "# SET 2 PART 2"
   ]
  },
  {
   "cell_type": "markdown",
   "id": "8b9b5311",
   "metadata": {},
   "source": [
    "# 14"
   ]
  },
  {
   "cell_type": "code",
   "execution_count": 8,
   "id": "d01356b1",
   "metadata": {},
   "outputs": [],
   "source": [
    "import math"
   ]
  },
  {
   "cell_type": "code",
   "execution_count": 9,
   "id": "0f970cbf",
   "metadata": {},
   "outputs": [
    {
     "name": "stdout",
     "output_type": "stream",
     "text": [
      "enter the coeffecient of x^2 (a): 8\n",
      "enter the coeffecient of x(b):5\n",
      "enter the constant term (c):3\n",
      "the roots are complex and different\n",
      "root1 is: -0.3125 + 0.5266343608235224 i\n",
      "root2 is: -0.3125 - 0.5266343608235224 i\n"
     ]
    }
   ],
   "source": [
    "a= float(input(\"enter the coeffecient of x^2 (a): \"))\n",
    "b=float(input(\"enter the coeffecient of x(b):\"))\n",
    "c=float(input(\"enter the constant term (c):\"))\n",
    "\n",
    "if a==0:\n",
    "    print(\"error, a should not be 0\")\n",
    "else:\n",
    "    disc= b**2 - 4*a*c\n",
    "    if disc >0:\n",
    "        root1=(-b +math.sqrt(disc)) / (2*a)\n",
    "        root2=(-b - math.sqrt(disc)) / (2*a)\n",
    "        print(\"the root are real and different\")\n",
    "        print(\"root1 is:\",root1)\n",
    "        print(\"root2 is:\",root2)\n",
    "    \n",
    "    elif disc ==0:\n",
    "        root =-b/(2*a)\n",
    "        print(\"the roots are real and equal\")\n",
    "        print(\"the root is:\",root)\n",
    "    else:\n",
    "        realpart = -b /(2*a)\n",
    "        imagpart = math.sqrt(-disc) / (2*a)\n",
    "        print(\"the roots are complex and different\")\n",
    "        print(\"root1 is:\",realpart, \"+\",imagpart,\"i\")\n",
    "        print(\"root2 is:\",realpart,\"-\",imagpart,\"i\")"
   ]
  },
  {
   "cell_type": "markdown",
   "id": "0093545f",
   "metadata": {},
   "source": [
    "# 15"
   ]
  },
  {
   "cell_type": "code",
   "execution_count": 10,
   "id": "fd77f052",
   "metadata": {},
   "outputs": [
    {
     "name": "stdout",
     "output_type": "stream",
     "text": [
      "enter a number10\n",
      "the sum of first 10 natural numbers : 55\n"
     ]
    }
   ],
   "source": [
    "n = int(input(\"enter a number\"))\n",
    "sum_of = (n *(n+1))//2\n",
    "print(\"the sum of first\",n,\"natural numbers :\",sum_of)"
   ]
  },
  {
   "cell_type": "markdown",
   "id": "6f8318b8",
   "metadata": {},
   "source": [
    "# SET 3 PART 2"
   ]
  },
  {
   "cell_type": "markdown",
   "id": "ceb5440e",
   "metadata": {},
   "source": [
    "# 11."
   ]
  },
  {
   "cell_type": "code",
   "execution_count": 20,
   "id": "afd96300",
   "metadata": {},
   "outputs": [
    {
     "name": "stdout",
     "output_type": "stream",
     "text": [
      "Enter number of rows: 5\n",
      "* \n",
      "\n",
      "* * \n",
      "\n",
      "* * * \n",
      "\n",
      "* * * * \n",
      "\n",
      "* * * * * \n",
      "\n"
     ]
    }
   ],
   "source": [
    "rows = int(input(\"Enter number of rows: \"))\n",
    "\n",
    "for i in range(rows):\n",
    "    for j in range(i+1):\n",
    "        print(\"* \", end=\"\")\n",
    "    print(\"\\n\")"
   ]
  },
  {
   "cell_type": "markdown",
   "id": "2841345d",
   "metadata": {},
   "source": [
    "# 12"
   ]
  },
  {
   "cell_type": "code",
   "execution_count": 30,
   "id": "78841eb1",
   "metadata": {},
   "outputs": [
    {
     "name": "stdout",
     "output_type": "stream",
     "text": [
      "*********\n",
      " *******\n",
      "  *****\n",
      "   ***\n",
      "    *\n",
      "   ***\n",
      "  *****\n",
      " *******\n",
      "*********\n"
     ]
    }
   ],
   "source": [
    "def main():\n",
    "    char = \"*\"\n",
    "    rows_number = 9\n",
    "    m = int((rows_number+1)/2)\n",
    "    \n",
    "    \n",
    "    for i in range(m):\n",
    "        print(\" \"*i + char*(2*(m-i)-1))\n",
    "    for j in range(m-1, 0, -1):\n",
    "        print(\" \"*(j-1) + char*(2*(m-j) + 1))\n",
    "        \n",
    "if __name__ == \"__main__\":\n",
    "    main()"
   ]
  },
  {
   "cell_type": "markdown",
   "id": "2f4ee39f",
   "metadata": {},
   "source": [
    "# 13"
   ]
  },
  {
   "cell_type": "code",
   "execution_count": 32,
   "id": "a2c17ab9",
   "metadata": {},
   "outputs": [
    {
     "name": "stdout",
     "output_type": "stream",
     "text": [
      "Enter the number of levels: 5\n",
      "1 \n",
      "1 1 \n",
      "1 2 1 \n",
      "1 3 3 1 \n",
      "1 4 6 4 1 \n"
     ]
    }
   ],
   "source": [
    "def pascal_triangle(levels):\n",
    "    triangle = []\n",
    "    for i in range(levels):\n",
    "        row = []\n",
    "            \n",
    "        for j in range(i + 1):\n",
    "            value = 1\n",
    "            if j > 0 and j < i:\n",
    "                value = triangle[i-1][j-1] + triangle[i-1][j]\n",
    "            row.append(value)\n",
    "        triangle.append(row)\n",
    "    for row in triangle:\n",
    "        for value in row:\n",
    "            print(value, end=' ')\n",
    "        print()\n",
    "levels = int(input(\"Enter the number of levels: \"))\n",
    "pascal_triangle(levels)"
   ]
  },
  {
   "cell_type": "markdown",
   "id": "f19d7a79",
   "metadata": {},
   "source": [
    "# 14"
   ]
  },
  {
   "cell_type": "code",
   "execution_count": 33,
   "id": "7d1fcbc6",
   "metadata": {},
   "outputs": [
    {
     "name": "stdout",
     "output_type": "stream",
     "text": [
      "Enter the number of stars in the middle-most line: 5\n",
      "    * \n",
      "   * * \n",
      "  * * * \n",
      " * * * * \n",
      "* * * * * \n",
      " * * * * \n",
      "  * * * \n",
      "   * * \n",
      "    * \n"
     ]
    }
   ],
   "source": [
    "def diamond_pattern(n):\n",
    "    for i in range(1, n+1):\n",
    "        print(' '*(n-i) + '* '*(i))\n",
    "    \n",
    "    for i in range(n-1, 0, -1):\n",
    "        print(' '*(n-i) + '* '*(i))\n",
    "n = int(input(\"Enter the number of stars in the middle-most line: \"))\n",
    "diamond_pattern(n)"
   ]
  },
  {
   "cell_type": "markdown",
   "id": "5345809d",
   "metadata": {},
   "source": [
    "# 15"
   ]
  },
  {
   "cell_type": "code",
   "execution_count": 37,
   "id": "f1d0e8ed",
   "metadata": {},
   "outputs": [
    {
     "name": "stdout",
     "output_type": "stream",
     "text": [
      "Enter the rank of the alphabet (1-26): 5\n",
      "    A\n",
      "   A BA\n",
      "  A B CB A\n",
      " A B C DC B A\n",
      "A B C D ED C B A\n",
      " A B C DC B A\n",
      "  A B CB A\n",
      "   A BA\n",
      "    A\n"
     ]
    }
   ],
   "source": [
    "def diamond_char_pattern(n):\n",
    "    letter = chr(ord('A') + n - 1)\n",
    "    \n",
    "    for i in range(1, n+1):\n",
    "        print(' '*(n-i) + ' '.join([chr(ord('A') + j) for j in range(i)]) + ' '.join([chr(ord('A') + j) for j in range(i-2, -1, -1)]))\n",
    "        \n",
    "    for i in range(n-1, 0, -1):\n",
    "        print(' '*(n-i) + ' '.join([chr(ord('A') + j) for j in range(i)]) + ' '.join([chr(ord('A') + j) for j in range(i-2, -1, -1)]))\n",
    "n = int(input(\"Enter the rank of the alphabet (1-26): \"))\n",
    "diamond_char_pattern(n)"
   ]
  },
  {
   "cell_type": "code",
   "execution_count": null,
   "id": "9a92d00f",
   "metadata": {},
   "outputs": [],
   "source": []
  }
 ],
 "metadata": {
  "kernelspec": {
   "display_name": "Python 3 (ipykernel)",
   "language": "python",
   "name": "python3"
  },
  "language_info": {
   "codemirror_mode": {
    "name": "ipython",
    "version": 3
   },
   "file_extension": ".py",
   "mimetype": "text/x-python",
   "name": "python",
   "nbconvert_exporter": "python",
   "pygments_lexer": "ipython3",
   "version": "3.9.12"
  }
 },
 "nbformat": 4,
 "nbformat_minor": 5
}
